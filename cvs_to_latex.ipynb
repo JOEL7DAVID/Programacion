{
  "nbformat": 4,
  "nbformat_minor": 0,
  "metadata": {
    "colab": {
      "provenance": [],
      "authorship_tag": "ABX9TyMb2SFSiH2oHo7FbOCethdo",
      "include_colab_link": true
    },
    "kernelspec": {
      "name": "python3",
      "display_name": "Python 3"
    },
    "language_info": {
      "name": "python"
    }
  },
  "cells": [
    {
      "cell_type": "markdown",
      "metadata": {
        "id": "view-in-github",
        "colab_type": "text"
      },
      "source": [
        "<a href=\"https://colab.research.google.com/github/JOEL7DAVID/Programacion/blob/main/cvs_to_latex.ipynb\" target=\"_parent\"><img src=\"https://colab.research.google.com/assets/colab-badge.svg\" alt=\"Open In Colab\"/></a>"
      ]
    },
    {
      "cell_type": "code",
      "execution_count": 5,
      "metadata": {
        "colab": {
          "base_uri": "https://localhost:8080/"
        },
        "id": "J5Di1vMUPDhb",
        "outputId": "c211c604-b8ff-4159-fb14-94cf6755641b"
      },
      "outputs": [
        {
          "output_type": "stream",
          "name": "stdout",
          "text": [
            "\\begin{itemize}\n",
            "    \\item d\n",
            "    \\item e\n",
            "    \\item f\n",
            "    \\item g\n",
            "\\end{itemize}\n"
          ]
        }
      ],
      "source": [
        "def tex_a_latex(texto):\n",
        "\n",
        "    elementos = texto.split(', ')\n",
        "\n",
        "\n",
        "    latex_lista = \"\\\\begin{itemize}\\n\"  # Inicializa una cadena de latex.\n",
        "\n",
        "    for elemento in elementos:\n",
        "        latex_lista += \"    \\\\item \" + elemento + \"\\n\"\n",
        "\n",
        "    latex_lista += \"\\\\end{itemize}\"\n",
        "\n",
        "\n",
        "    return latex_lista     # Devuelve la lista de Latex generada\n",
        "\n",
        "texto_1 = \"d, e, f, g\"\n",
        "latex = tex_a_latex(texto_1)\n",
        "print(latex)\n"
      ]
    }
  ]
}