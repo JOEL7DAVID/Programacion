{
  "nbformat": 4,
  "nbformat_minor": 0,
  "metadata": {
    "colab": {
      "provenance": [],
      "authorship_tag": "ABX9TyPxUq17NXs8A53BZXdfz5K3",
      "include_colab_link": true
    },
    "kernelspec": {
      "name": "python3",
      "display_name": "Python 3"
    },
    "language_info": {
      "name": "python"
    }
  },
  "cells": [
    {
      "cell_type": "markdown",
      "metadata": {
        "id": "view-in-github",
        "colab_type": "text"
      },
      "source": [
        "<a href=\"https://colab.research.google.com/github/JOEL7DAVID/Programacion/blob/main/TP3/ModuloArraySuma.ipynb\" target=\"_parent\"><img src=\"https://colab.research.google.com/assets/colab-badge.svg\" alt=\"Open In Colab\"/></a>"
      ]
    },
    {
      "cell_type": "markdown",
      "source": [
        "# SUMA (MODULO ARRAY)\n",
        "Parte A\n",
        "\n",
        "Joel David Buitrago Sanchez 20212005086"
      ],
      "metadata": {
        "id": "K2T18yX3H6eQ"
      }
    },
    {
      "cell_type": "markdown",
      "source": [
        "# Modulo array"
      ],
      "metadata": {
        "id": "9PV8_7d_QxgY"
      }
    },
    {
      "cell_type": "markdown",
      "source": [
        "El módulo array define una estructura de datos de secuencia que se ve muy parecida a una list, excepto que todos los miembros tienen que ser del mismo tipo primitivo. Los tipos admitidos son todos numéricos u otros tipos primitivos de tamaño fijo como bytes."
      ],
      "metadata": {
        "id": "ZRvSjUhiH8oH"
      }
    },
    {
      "cell_type": "markdown",
      "source": [
        "**Tipos de Arrays**\n",
        "\n",
        "b - char con signo (int, 1 byte)\n",
        "\n",
        "B - char sin signo (int, 1 byte)\n",
        "\n",
        "h - short con signo (int, 2 bytes)\n",
        "\n",
        "H - short sin signo (int, 2 bytes)\n",
        "\n",
        "i - int con signo (int, 4 bytes)\n",
        "\n",
        "I - int sin signo (int, 4 bytes)\n",
        "\n",
        "l - long con signo (int, 8 bytes)\n",
        "\n",
        "L - long sin signo (int, 8 bytes)\n",
        "\n",
        "f - float (float, 4 bytes)\n",
        "\n",
        "d - double (float, 8 bytes)"
      ],
      "metadata": {
        "id": "K9J6mwQIIrov"
      }
    },
    {
      "cell_type": "markdown",
      "source": [
        "# `Declarar arrays`"
      ],
      "metadata": {
        "id": "XUVCoBvZJSZ_"
      }
    },
    {
      "cell_type": "code",
      "source": [
        "1# Importar módulo array\n",
        "import array\n",
        "\n",
        "2# Declarar lista con valores numéricos\n",
        "lista1 = [1, 0, 1, 0, 1, 1, 0, 0]\n",
        "\n",
        "#Se prodece a declarar el array de acuerdo a como sea en este caso de tipo B.\n",
        "3# Declarar 'array1' de tipo 'char sin signo' con datos de 'lista1'\n",
        "\n",
        "array1 = array.array('f', lista1)\n",
        "\n",
        "array1"
      ],
      "metadata": {
        "colab": {
          "base_uri": "https://localhost:8080/"
        },
        "id": "wTtMCZ0FJvt_",
        "outputId": "7c837026-e6de-46e5-8b8e-1cfbcf746d0f"
      },
      "execution_count": 29,
      "outputs": [
        {
          "output_type": "execute_result",
          "data": {
            "text/plain": [
              "array('f', [1.0, 0.0, 1.0, 0.0, 1.0, 1.0, 0.0, 0.0])"
            ]
          },
          "metadata": {},
          "execution_count": 29
        }
      ]
    },
    {
      "cell_type": "markdown",
      "source": [
        "# **1.Suma  de arreglos**\n",
        "\n"
      ],
      "metadata": {
        "id": "ad47iYc9Lu3C"
      }
    },
    {
      "cell_type": "code",
      "source": [
        "import array\n",
        "\n",
        "arr1 = array.array('f', [1.0, 2.0, 3.0])\n",
        "arr2 = array.array('f', [4.0, 5.0, 6.0])\n",
        "\n",
        "resultado1 = array.array('f', [x + y for x, y in zip(arr1, arr2)])\n",
        "\n",
        "print(\"Resultado de la suma de arreglos:\", resultado1)"
      ],
      "metadata": {
        "colab": {
          "base_uri": "https://localhost:8080/"
        },
        "id": "ifaM3JI_L6Lz",
        "outputId": "64dd0e84-9e24-4882-af2d-aa1a9e7bc9c6"
      },
      "execution_count": 30,
      "outputs": [
        {
          "output_type": "stream",
          "name": "stdout",
          "text": [
            "Resultado de la suma de arreglos: array('f', [5.0, 7.0, 9.0])\n"
          ]
        }
      ]
    },
    {
      "cell_type": "markdown",
      "source": [
        "# **2.Suma de Arreglos de Arreglos**"
      ],
      "metadata": {
        "id": "TMuxpHeAOEg3"
      }
    },
    {
      "cell_type": "code",
      "source": [
        "import array\n",
        "\n",
        "#Defino el nuevo arreglo 3\n",
        "arr3 = array.array('f', [8.0, 9.0, 6.0])\n",
        "\n",
        "def suma_de_arreglos_de_arreglos(arreglos):\n",
        "    if not arreglos:\n",
        "        return None\n",
        "    longitud = len(arreglos[0])\n",
        "    resultado = [0.0] * longitud\n",
        "\n",
        "    for arreglo in arreglos:\n",
        "        if len(arreglo) != longitud:\n",
        "            raise ValueError(\"Los arreglos deben tener la misma longitud\")\n",
        "        resultado = [resultado[i] + arreglo[i] for i in range(longitud)]\n",
        "\n",
        "    return resultado\n",
        "arreglos = [arr1, arr2, arr3]\n",
        "\n",
        "resultado = suma_de_arreglos_de_arreglos(arreglos)\n",
        "\n",
        "resultado\n"
      ],
      "metadata": {
        "colab": {
          "base_uri": "https://localhost:8080/"
        },
        "id": "Z7cSij__OPYR",
        "outputId": "06a3079e-b77d-495f-f63a-1ec8888c4473"
      },
      "execution_count": 31,
      "outputs": [
        {
          "output_type": "execute_result",
          "data": {
            "text/plain": [
              "[13.0, 16.0, 15.0]"
            ]
          },
          "metadata": {},
          "execution_count": 31
        }
      ]
    },
    {
      "cell_type": "markdown",
      "source": [
        "# **3.Suma Constante a Un Arreglo**"
      ],
      "metadata": {
        "id": "KgfnM45ZRa5y"
      }
    },
    {
      "cell_type": "code",
      "source": [
        "import array\n",
        "\n",
        "arreglo = array.array('f', [1.0, 2.0, 3.0])\n",
        "constante = 5.0\n",
        "\n",
        "def suma_constante_al_arreglo(arr, constante):\n",
        "    resultado = array.array('f', [])\n",
        "    for elemento in arr:\n",
        "        resultado.append(elemento + constante)\n",
        "    return resultado\n",
        "\n",
        "resultado\n"
      ],
      "metadata": {
        "colab": {
          "base_uri": "https://localhost:8080/"
        },
        "id": "Ck9DVsgNOUtQ",
        "outputId": "28d725b6-ce94-45d4-8e16-1a629f97e1fd"
      },
      "execution_count": 37,
      "outputs": [
        {
          "output_type": "execute_result",
          "data": {
            "text/plain": [
              "array('f', [6.0, 7.0, 8.0])"
            ]
          },
          "metadata": {},
          "execution_count": 37
        }
      ]
    },
    {
      "cell_type": "markdown",
      "source": [
        "# **4.Suma de una Constante a un Arreglo de Arreglos**"
      ],
      "metadata": {
        "id": "reMyUMhkVOtp"
      }
    },
    {
      "cell_type": "code",
      "source": [
        "import array\n",
        "\n",
        "def suma_constante_al_arreglo_de_arreglos(arreglos, constante):\n",
        "    resultado = []\n",
        "    for arreglo in arreglos:\n",
        "        resultado.append(suma_constante_al_arreglo(array.array('f', arreglo), constante))\n",
        "    return resultado\n",
        "\n",
        "arreglo1 = array.array('f', [1.0, 2.0, 3.0])\n",
        "arreglo2 = array.array('f', [4.0, 5.0, 6.0])\n",
        "arreglo3 = array.array('f', [7.0, 8.0, 9.0])\n",
        "\n",
        "arreglos = [arreglo1, arreglo2, arreglo3]\n",
        "constante = 8.0\n",
        "\n",
        "resultados = suma_constante_al_arreglo_de_arreglos(arreglos, constante)\n",
        "print(resultados)\n",
        "\n",
        "\n"
      ],
      "metadata": {
        "colab": {
          "base_uri": "https://localhost:8080/"
        },
        "id": "6jU-DvpiVvAw",
        "outputId": "9db806d3-283f-4199-ba79-6f656fa942be"
      },
      "execution_count": 51,
      "outputs": [
        {
          "output_type": "stream",
          "name": "stdout",
          "text": [
            "[array('f', [9.0, 10.0, 11.0]), array('f', [12.0, 13.0, 14.0]), array('f', [15.0, 16.0, 17.0])]\n"
          ]
        }
      ]
    },
    {
      "cell_type": "code",
      "source": [],
      "metadata": {
        "id": "IHGDYTsiVzSw"
      },
      "execution_count": null,
      "outputs": []
    }
  ]
}