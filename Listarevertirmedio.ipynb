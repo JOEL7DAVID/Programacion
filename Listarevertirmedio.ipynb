{
  "nbformat": 4,
  "nbformat_minor": 0,
  "metadata": {
    "colab": {
      "provenance": [],
      "authorship_tag": "ABX9TyNLP7PiOUPDtVJ63dzKn+OA",
      "include_colab_link": true
    },
    "kernelspec": {
      "name": "python3",
      "display_name": "Python 3"
    },
    "language_info": {
      "name": "python"
    }
  },
  "cells": [
    {
      "cell_type": "markdown",
      "metadata": {
        "id": "view-in-github",
        "colab_type": "text"
      },
      "source": [
        "<a href=\"https://colab.research.google.com/github/JOEL7DAVID/Programacion/blob/main/Listarevertirmedio.ipynb\" target=\"_parent\"><img src=\"https://colab.research.google.com/assets/colab-badge.svg\" alt=\"Open In Colab\"/></a>"
      ]
    },
    {
      "cell_type": "markdown",
      "source": [
        "**1.Lista #1**"
      ],
      "metadata": {
        "id": "YgAyYbHDTDVj"
      }
    },
    {
      "cell_type": "code",
      "execution_count": 1,
      "metadata": {
        "colab": {
          "base_uri": "https://localhost:8080/"
        },
        "id": "ZXEaY6h3TBPB",
        "outputId": "3158c07a-ba8f-446c-f94c-8c94ed507f51"
      },
      "outputs": [
        {
          "output_type": "stream",
          "name": "stdout",
          "text": [
            "[6, 2, 4, 2, 1]\n"
          ]
        }
      ],
      "source": [
        "lista = [1, 2, 0, 4, 2, 6]\n",
        "lista = [x for x in lista if x != 0]\n",
        "lista = lista[::-1]\n",
        "print(lista)\n"
      ]
    },
    {
      "cell_type": "markdown",
      "source": [
        "**2.Lista #2**"
      ],
      "metadata": {
        "id": "8N74QFNzTRxx"
      }
    },
    {
      "cell_type": "code",
      "source": [
        "lista = [0, 1, 2, 3]\n",
        "lista = [x for x in lista if x != 0]\n",
        "lista = lista[::-1]\n",
        "print(lista)\n"
      ],
      "metadata": {
        "colab": {
          "base_uri": "https://localhost:8080/"
        },
        "id": "CNvLQyopTUwZ",
        "outputId": "255a37fd-4d1e-40c3-e392-0b1ef424caf5"
      },
      "execution_count": 2,
      "outputs": [
        {
          "output_type": "stream",
          "name": "stdout",
          "text": [
            "[3, 2, 1]\n"
          ]
        }
      ]
    },
    {
      "cell_type": "markdown",
      "source": [
        "**3.Lista #3**"
      ],
      "metadata": {
        "id": "uXZwj8wZTb1R"
      }
    },
    {
      "cell_type": "code",
      "source": [
        "lista = [0, 1, 0, 2, 0, 3]\n",
        "lista = [x for x in lista if x != 0]\n",
        "lista = lista[::-1]\n",
        "print(lista)\n"
      ],
      "metadata": {
        "colab": {
          "base_uri": "https://localhost:8080/"
        },
        "id": "6djm9WNVTeaD",
        "outputId": "c20dd744-ab7f-4729-8788-1666686a099a"
      },
      "execution_count": 3,
      "outputs": [
        {
          "output_type": "stream",
          "name": "stdout",
          "text": [
            "[3, 2, 1]\n"
          ]
        }
      ]
    },
    {
      "cell_type": "markdown",
      "source": [
        "**4.Lista #4**"
      ],
      "metadata": {
        "id": "Z3jNe3h6Tknn"
      }
    },
    {
      "cell_type": "code",
      "source": [
        "lista = [0, 0, 2, 2, 3, 3]\n",
        "lista = [x for x in lista if x != 0]\n",
        "lista = lista[::-1]\n",
        "print(lista)\n"
      ],
      "metadata": {
        "colab": {
          "base_uri": "https://localhost:8080/"
        },
        "id": "Xz7sPtlETk-N",
        "outputId": "a3006d2c-c105-4b9d-d297-183cd1febd62"
      },
      "execution_count": 4,
      "outputs": [
        {
          "output_type": "stream",
          "name": "stdout",
          "text": [
            "[3, 3, 2, 2]\n"
          ]
        }
      ]
    }
  ]
}