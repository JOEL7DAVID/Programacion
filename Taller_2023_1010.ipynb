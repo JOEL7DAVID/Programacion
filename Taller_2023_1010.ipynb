{
  "nbformat": 4,
  "nbformat_minor": 0,
  "metadata": {
    "colab": {
      "provenance": [],
      "authorship_tag": "ABX9TyNRTmDn/4a2TAguuVdTe+RV",
      "include_colab_link": true
    },
    "kernelspec": {
      "name": "python3",
      "display_name": "Python 3"
    },
    "language_info": {
      "name": "python"
    }
  },
  "cells": [
    {
      "cell_type": "markdown",
      "metadata": {
        "id": "view-in-github",
        "colab_type": "text"
      },
      "source": [
        "<a href=\"https://colab.research.google.com/github/JOEL7DAVID/Programacion/blob/main/Taller_2023_1010.ipynb\" target=\"_parent\"><img src=\"https://colab.research.google.com/assets/colab-badge.svg\" alt=\"Open In Colab\"/></a>"
      ]
    },
    {
      "cell_type": "code",
      "source": [
        "import numpy as np\n",
        "\n",
        "def imprimir(matriz):\n",
        "    for fila in matriz:\n",
        "        print(\"[\" + \", \".join(map(str, fila)) + \"]\")\n",
        "\n",
        "A = np.array([[10, 5, 200], [6, 2, 3], [-9, 3, 2], [4, 0, 1]])\n",
        "\n",
        "imprimir(A)\n",
        "\n",
        "\n",
        "\n"
      ],
      "metadata": {
        "colab": {
          "base_uri": "https://localhost:8080/"
        },
        "id": "RiNKjnnFRT6p",
        "outputId": "5aa1ef7f-3e20-46a2-d100-33056779a082"
      },
      "execution_count": null,
      "outputs": [
        {
          "output_type": "stream",
          "name": "stdout",
          "text": [
            "[10, 5, 200]\n",
            "[6, 2, 3]\n",
            "[-9, 3, 2]\n",
            "[4, 0, 1]\n"
          ]
        }
      ]
    }
  ]
}