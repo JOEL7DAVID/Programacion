{
  "nbformat": 4,
  "nbformat_minor": 0,
  "metadata": {
    "colab": {
      "provenance": [],
      "include_colab_link": true
    },
    "kernelspec": {
      "name": "python3",
      "display_name": "Python 3"
    },
    "language_info": {
      "name": "python"
    }
  },
  "cells": [
    {
      "cell_type": "markdown",
      "metadata": {
        "id": "view-in-github",
        "colab_type": "text"
      },
      "source": [
        "<a href=\"https://colab.research.google.com/github/JOEL7DAVID/Programacion/blob/main/Lab_2023_1005.ipynb\" target=\"_parent\"><img src=\"https://colab.research.google.com/assets/colab-badge.svg\" alt=\"Open In Colab\"/></a>"
      ]
    },
    {
      "cell_type": "markdown",
      "source": [
        "<center>\n",
        "<img src=\"https://www.udistrital.edu.co/themes/custom/versh/logo.png\">\n",
        "\n",
        "# **Facultad de Ingeniería - Ingeniería Electrónica**\n",
        "\n",
        "# **Programación Aplicada**\n",
        "## **Docente:**\n",
        "### Gerardo Alcides Muñoz Quiñones.\n",
        "\n",
        "## **Integrantes:**\n",
        "### Julian David Ramirez Bocanegra - 20221005104\n",
        "### Joel David Buitrago Sanchez - 20212005086\n",
        "### Camilo Felipe Albadan Daza - 20211005102"
      ],
      "metadata": {
        "id": "jyKO-KrR2Mcp"
      }
    },
    {
      "cell_type": "markdown",
      "source": [
        "#**1. Consultar como medir el tiempo que dura una función en Python.**\n",
        "\n"
      ],
      "metadata": {
        "id": "TrW-GX884nIh"
      }
    },
    {
      "cell_type": "markdown",
      "source": [
        "Para medir el tiempo que tarda una función en Python, puedes usar el módulo **time**, en Python es una parte estándar de la biblioteca estándar que proporciona funciones para trabajar con medidas de tiempo y reloj. Se Puede utilizarlo para medir el tiempo transcurrido, crear retrasos en los programas, medir el tiempo que dura una función, obtener información sobre la hora actual, y mucho más. A continuación un ejemplo de un codigo empleando **time**:"
      ],
      "metadata": {
        "id": "AJPB1ULbi-X1"
      }
    },
    {
      "cell_type": "code",
      "source": [
        "import time\n",
        "\n",
        "def mi_funcion():\n",
        "\n",
        "    for _ in range(1000000):\n",
        "        pass\n",
        "\n",
        "inicio = time.time() # Registra el tiempo de inicio\n",
        "\n",
        "mi_funcion()\n",
        "\n",
        "fin = time.time() # Registra el tiempo de finalización\n",
        "tiempo_transcurrido = fin - inicio # Calcula el tiempo transcurrido\n",
        "\n",
        "print(f\"La función tomó {tiempo_transcurrido} segundos en ejecutarse.\")\n"
      ],
      "metadata": {
        "colab": {
          "base_uri": "https://localhost:8080/"
        },
        "id": "eYxZ8AiQjyfI",
        "outputId": "e43e4c56-9175-4a8a-a112-0117a335475c"
      },
      "execution_count": null,
      "outputs": [
        {
          "output_type": "stream",
          "name": "stdout",
          "text": [
            "La función tomó 0.03389787673950195 segundos en ejecutarse.\n"
          ]
        }
      ]
    },
    {
      "cell_type": "markdown",
      "source": [
        "Sin embargo, hay otro módulo empleado para medir el tiempo que dura una función en Python, ese es el **timeit**, este es especialmente útil cuando se necesita medir tiempos muy cortos con alta precisión y quieres obtener estadísticas más confiables sobre el rendimiento de una función. El módulo timeit proporciona una forma conveniente de realizar múltiples ejecuciones y calcular automáticamente el tiempo promedio. A continuación, un ejemplo de un código empleando **timeit**:"
      ],
      "metadata": {
        "id": "GvMe7zAbkSb3"
      }
    },
    {
      "cell_type": "code",
      "source": [
        "import timeit\n",
        "\n",
        "# Definir la función a medir\n",
        "def suma_naturales(n):\n",
        "    suma = 0\n",
        "    for i in range(1, n + 1):\n",
        "        suma += i\n",
        "    return suma\n",
        "\n",
        "\n",
        "timer = timeit.Timer(lambda: suma_naturales(10000)) # Crear un objeto Timer con la función y un valor de n\n",
        "\n",
        "\n",
        "tiempo_ejecucion = timer.timeit(number=1) # Medir el tiempo de ejecución en una sola ejecución\n",
        "\n",
        "print(f\"Tiempo de ejecución para sumar los primeros 10,000 números naturales: {tiempo_ejecucion} segundos\")\n"
      ],
      "metadata": {
        "colab": {
          "base_uri": "https://localhost:8080/"
        },
        "id": "tEiRIR9NlQCu",
        "outputId": "1424f011-571d-404d-e363-f6a4fc817213"
      },
      "execution_count": null,
      "outputs": [
        {
          "output_type": "stream",
          "name": "stdout",
          "text": [
            "Tiempo de ejecución para sumar los primeros 10,000 números naturales: 0.0013538880000396603 segundos\n"
          ]
        }
      ]
    },
    {
      "cell_type": "markdown",
      "source": [
        "# **2. Desarrollar en Mycropython una rutina llamada elem que devuelve un elemento i,j de una \"matriz\" definida con array.**"
      ],
      "metadata": {
        "id": "iEhnPwrEmNPg"
      }
    },
    {
      "cell_type": "code",
      "source": [
        "# Primero se realizo el codigo en python para analizar su funcionamiento y llevarlo a Micropython:\n",
        "import array\n",
        "M=array.array('f', [2,1, 4, 5, 6,3,9])\n",
        "M"
      ],
      "metadata": {
        "colab": {
          "base_uri": "https://localhost:8080/"
        },
        "id": "PD4SviCAqL9P",
        "outputId": "e966f2f2-01ca-41a0-924d-cae5db74d925"
      },
      "execution_count": null,
      "outputs": [
        {
          "output_type": "execute_result",
          "data": {
            "text/plain": [
              "array('f', [2.0, 1.0, 4.0, 5.0, 6.0, 3.0, 9.0])"
            ]
          },
          "metadata": {},
          "execution_count": 12
        }
      ]
    },
    {
      "cell_type": "code",
      "source": [
        "def elem(M, fila, columna):\n",
        "    # Extraemos el número de columnas de la matriz.\n",
        "    num_columnas = int(M[0])\n",
        "\n",
        "    # Verificamos si los índices están dentro de los límites de la matriz.\n",
        "    if fila >= num_columnas or columna >= num_columnas:\n",
        "        raise IndexError(\"Índice fuera de rango\")\n",
        "\n",
        "    # Calculamos la posición del elemento deseado en la lista y lo devolvemos.\n",
        "    posicion = 1 + fila * num_columnas + columna\n",
        "    return M[posicion]\n",
        "\n",
        "# Ejemplo de uso:\n",
        "# Creamos una lista 'M' con dos columnas y datos.\n",
        "M = [2.0, 1.0, 4.0, 5.0, 6.0, 3.0, 9.0]\n",
        "\n",
        "# Accedemos al elemento en la fila 1 (fila=0) y columna 2 (columna=1).\n",
        "elemento = elem(M, 0, 1)\n",
        "\n",
        "\n",
        "print(elemento)  # Esto imprimirá 4.0 en este ejemplo correspondiente al elemento en la fila 0, columna 1 de la matriz"
      ],
      "metadata": {
        "colab": {
          "base_uri": "https://localhost:8080/"
        },
        "id": "yvckoTraryVk",
        "outputId": "10886731-d82d-4314-81d2-aa22643bcbe5"
      },
      "execution_count": null,
      "outputs": [
        {
          "output_type": "stream",
          "name": "stdout",
          "text": [
            "4.0\n"
          ]
        }
      ]
    },
    {
      "cell_type": "markdown",
      "source": [
        "# **3. Mida el tiempo utiliza de la función elem para matrices cuadradas de 10x10, 20x20, ..., 100x100 en el pc y en la raspberry pico y grafique ambas soluciones.**\n",
        "\n"
      ],
      "metadata": {
        "id": "WxyFZSaj5xQ6"
      }
    },
    {
      "cell_type": "code",
      "source": [
        "import random\n",
        "from array import array\n",
        "import timeit\n",
        "\n",
        "def crear_matriz(filas, columnas):\n",
        "    matriz = []\n",
        "    for _ in range(filas):\n",
        "        fila = array('f', [random.uniform(0,1) for _ in range(columnas)])\n",
        "        matriz.append(fila)\n",
        "    return matriz\n",
        "\n",
        "def elem(M, fila, columna):\n",
        "    # Verificamos si los índices están dentro de los límites de la matriz.\n",
        "    if fila >= len(M) or columna >= len(M[0]):\n",
        "        raise IndexError(\"Índice fuera de rango\")\n",
        "\n",
        "    # Accedemos al elemento deseado en la matriz y lo devolvemos.\n",
        "    return M[fila][columna]\n",
        "\n",
        "# Ejemplo de uso:\n",
        "filas = 1000\n",
        "columnas = 1000\n",
        "matriz = crear_matriz(filas, columnas)\n",
        "\n",
        "# Función para medir el tiempo de ejecución de elem\n",
        "\"\"\"def medir_tiempo():\n",
        "    elemento = elem(matriz, 0, 1)\n",
        "print( elemento)\n",
        "# Medir el tiempo \"\"\"\n",
        "tiempo = timeit.timeit(medir_tiempo, number=1000)  # Número de veces que se ejecutará la función\n",
        "\n",
        "print(f\"Tiempo de ejecución: {tiempo} segundos\")"
      ],
      "metadata": {
        "colab": {
          "base_uri": "https://localhost:8080/"
        },
        "id": "ATO5lLWs6v_L",
        "outputId": "6d485f17-292b-453e-bad7-fef20c3637b8"
      },
      "execution_count": null,
      "outputs": [
        {
          "output_type": "stream",
          "name": "stdout",
          "text": [
            "Tiempo de ejecución: 0.0007084759999997914 segundos\n"
          ]
        }
      ]
    },
    {
      "cell_type": "code",
      "source": [
        "\n",
        "import matplotlib.pyplot as plt\n",
        "\n",
        "\n",
        "plt.plot(resultados)\n",
        "plt.xlabel('Ejecución')\n",
        "plt.ylabel('Tiempo (segundos)')\n",
        "plt.title('Tiempo de ejecución de elem()')\n",
        "plt.show()\n"
      ],
      "metadata": {
        "colab": {
          "base_uri": "https://localhost:8080/",
          "height": 473
        },
        "id": "RU5RaBwV8Q46",
        "outputId": "40a7fd21-d918-4893-86b7-524ccb6a696e"
      },
      "execution_count": null,
      "outputs": [
        {
          "output_type": "display_data",
          "data": {
            "text/plain": [
              "<Figure size 640x480 with 1 Axes>"
            ],
            "image/png": "[encoded data removed]"
          },
          "metadata": {}
        }
      ]
    },
    {
      "cell_type": "code",
      "source": [
        "import utime\n",
        "import array\n",
        "import random\n",
        "\n",
        "def create_random_matrix(rows, cols):\n",
        "    start_time = utime.ticks_us()  # Registra el tiempo de inicio en microsegundos\n",
        "\n",
        "    # Crea una matriz de enteros de 32 bits con valores aleatorios entre 0 y 99\n",
        "    matrix = array.array('l', [random.randint(0, 99) for _ in range(rows * cols)])\n",
        "\n",
        "    end_time = utime.ticks_us()  # Registra el tiempo de finalización en microsegundos\n",
        "    creation_time = utime.ticks_diff(end_time, start_time)  # Calcula el tiempo de creación en microsegundos\n",
        "\n",
        "    return matrix, rows, cols, creation_time\n",
        "\n",
        "def elem(matrix, rows, cols, row, col):\n",
        "    start_time = utime.ticks_us()  # Registra el tiempo de inicio en microsegundos\n",
        "\n",
        "    element = matrix[row * cols + col]\n",
        "\n",
        "    end_time = utime.ticks_us()  # Registra el tiempo de finalización en microsegundos\n",
        "    access_time = utime.ticks_diff(end_time, start_time)  # Calcula el tiempo de acceso en microsegundos\n",
        "\n",
        "    return element, access_time\n",
        "\n",
        "# Ejemplo de uso\n",
        "rows = 4\n",
        "cols = 4\n",
        "result_matrix, num_rows, num_cols, creation_time = create_random_matrix(rows, cols)\n",
        "\n",
        "print(\"Matriz generada:\")\n",
        "for i in range(num_rows):\n",
        "    row = result_matrix[i * num_cols: (i + 1) * num_cols]\n",
        "    print(row)\n",
        "\n",
        "element, access_time = elem(result_matrix, num_rows, num_cols, 0, 2)\n",
        "print(\"Elemento en la posición:\", element)\n",
        "print(\"Tiempo de acceso al elemento:\", access_time, \"microsegundos\")\n",
        "print(\"Tiempo de creación de la matriz:\", creation_time, \"microsegundos\")\n"
      ],
      "metadata": {
        "id": "RTY04QwWVuej"
      },
      "execution_count": null,
      "outputs": []
    }
  ]
}