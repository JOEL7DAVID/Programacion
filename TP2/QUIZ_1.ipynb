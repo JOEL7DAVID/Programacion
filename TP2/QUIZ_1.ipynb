{
  "nbformat": 4,
  "nbformat_minor": 0,
  "metadata": {
    "colab": {
      "provenance": [],
      "authorship_tag": "ABX9TyMokWLcv58bNotJmh4JsOjK",
      "include_colab_link": true
    },
    "kernelspec": {
      "name": "python3",
      "display_name": "Python 3"
    },
    "language_info": {
      "name": "python"
    }
  },
  "cells": [
    {
      "cell_type": "markdown",
      "metadata": {
        "id": "view-in-github",
        "colab_type": "text"
      },
      "source": [
        "<a href=\"https://colab.research.google.com/github/JOEL7DAVID/Programacion/blob/main/TP2/QUIZ_1.ipynb\" target=\"_parent\"><img src=\"https://colab.research.google.com/assets/colab-badge.svg\" alt=\"Open In Colab\"/></a>"
      ]
    },
    {
      "cell_type": "code",
      "execution_count": null,
      "metadata": {
        "id": "cxQg4PubqV9K"
      },
      "outputs": [],
      "source": [
        "#Quiz 1"
      ]
    },
    {
      "cell_type": "code",
      "source": [
        "#suma\n",
        "\n",
        "def suma(x):\n",
        "    return x + 5\n",
        "\n",
        "y = map(suma, [1, 2, 3, 5])\n",
        "y_tuple = tuple(y)\n",
        "\n",
        "print(y_tuple)\n"
      ],
      "metadata": {
        "colab": {
          "base_uri": "https://localhost:8080/"
        },
        "id": "FFGPNTWOrV1z",
        "outputId": "4f8e4c4d-7314-41fb-d04d-016fd4c29c6f"
      },
      "execution_count": 4,
      "outputs": [
        {
          "output_type": "stream",
          "name": "stdout",
          "text": [
            "(6, 7, 8, 10)\n"
          ]
        }
      ]
    },
    {
      "cell_type": "code",
      "source": [
        "#Pares\n",
        "def es_par(x):\n",
        "    return x % 2 == 0\n",
        "\n",
        "numeros = [1, 2, 3, 5]\n",
        "\n",
        "pares = list(filter(es_par, numeros))\n",
        "\n",
        "print(\"Números pares:\", pares)\n"
      ],
      "metadata": {
        "colab": {
          "base_uri": "https://localhost:8080/"
        },
        "id": "NNFhBO2Orgg1",
        "outputId": "b64d345b-6b37-4b23-8d39-a8a455ec1794"
      },
      "execution_count": 5,
      "outputs": [
        {
          "output_type": "stream",
          "name": "stdout",
          "text": [
            "Números pares: [2]\n"
          ]
        }
      ]
    },
    {
      "cell_type": "code",
      "source": [
        "#Pares divididos\n",
        "\n",
        "numeros = [1, 5, 3, 2, 6]\n",
        "\n",
        "pares_divididos_entre_2 = list(filter(lambda x: x % 2 == 0, numeros))\n",
        "pares_divididos_entre_2 = list(map(lambda x: x / 2, pares_divididos_entre_2))\n",
        "\n",
        "print(\"Números pares divididos entre 2:\", pares_divididos_entre_2)\n"
      ],
      "metadata": {
        "id": "eZuBASOmrxDM"
      },
      "execution_count": 6,
      "outputs": []
    }
  ]
}